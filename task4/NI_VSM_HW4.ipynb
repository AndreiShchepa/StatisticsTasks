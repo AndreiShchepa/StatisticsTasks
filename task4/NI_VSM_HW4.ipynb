{
  "nbformat": 4,
  "nbformat_minor": 0,
  "metadata": {
    "colab": {
      "provenance": []
    },
    "kernelspec": {
      "name": "python3",
      "display_name": "Python 3"
    },
    "language_info": {
      "name": "python"
    }
  },
  "cells": [
    {
      "cell_type": "code",
      "execution_count": 1,
      "metadata": {
        "id": "ShZMu5gloUUp"
      },
      "outputs": [],
      "source": [
        "import numpy as np\n",
        "from matplotlib import pyplot as plt\n",
        "from scipy.stats import expon, poisson, gamma, chi2, chisquare"
      ]
    },
    {
      "cell_type": "code",
      "source": [
        "'''\n",
        "Simulate one trajectory of the process N_t(ω) ∣ t ∈ (0,10].\n",
        "Illustrate the trajectory graphically and describe the principle of generating this trajectory.\n",
        "'''\n",
        "lambda_ = 10\n",
        "shape_ = 2\n",
        "scale_ = 1 / 4\n",
        "\n",
        "def plot_trajectory(process):\n",
        "  plt.plot(process[:, 0], np.cumsum(process[:, 1]))\n",
        "  plt.title(\"Random process M∣G∣∞: 10 sec\")\n",
        "  plt.xlabel('Time')\n",
        "  plt.ylabel('Number of clients')\n",
        "\n",
        "def create_trajectory(T):\n",
        "  process = [[0, 0]]\n",
        "  t = 0\n",
        "\n",
        "  while t < T:\n",
        "    t_delta = expon.rvs(scale=1/lambda_)\n",
        "    if t + t_delta > T:\n",
        "      break\n",
        "\n",
        "    process.append([t + t_delta, 1])\n",
        "    t_service = gamma.rvs(shape_, scale=scale_)\n",
        "    if t + t_delta + t_service <= T:\n",
        "      process.append([t + t_delta + t_service, -1])\n",
        "    t += t_delta\n",
        "\n",
        "  process = np.array(process)\n",
        "  return process[np.argsort(process[:, 0])]"
      ],
      "metadata": {
        "id": "c2dwQsHUo0nJ"
      },
      "execution_count": 2,
      "outputs": []
    },
    {
      "cell_type": "code",
      "source": [
        "'''\n",
        "Simulate n = 500 independent trajectories for t∈(0,100).\n",
        "Based on these simulations, estimate the distribution of the random variable N_100.\n",
        "'''\n",
        "\n",
        "def plot_simulated_trajectories(res, N=500, T=100):\n",
        "  plt.plot(np.arange(N), res)\n",
        "  plt.title(\"Simulation of 500 independent trajectories M∣G∣∞: 100 sec\")\n",
        "  plt.xlabel('Attempt')\n",
        "  plt.ylabel(f'Number of clients after {T} seconds in the system')\n",
        "\n",
        "def simulate_trajectories(N=500, T=100):\n",
        "  processes_results = np.zeros(N)\n",
        "  for i in np.arange(N):\n",
        "    trajectory = create_trajectory(T)\n",
        "    processes_results[i] = np.sum(trajectory[:, 1])\n",
        "\n",
        "  return processes_results\n",
        "\n",
        "##############################################################\n",
        "\n",
        "def plot_clients_distr(distr, T=100):\n",
        "  plt.bar(np.arange(len(distr)), distr)\n",
        "  plt.title(f\"Distribution of the number of clients after {T} seconds\")\n",
        "  plt.xticks(np.arange(len(distr)))\n",
        "  plt.xlabel('Number of clients')\n",
        "  plt.ylabel('Probability')\n",
        "\n",
        "def find_clients_distr(res):\n",
        "  Ni = np.arange(int(np.max(res)+1))\n",
        "  for i in Ni:\n",
        "    Ni[i] = np.sum(res == i)\n",
        "\n",
        "  return Ni / np.sum(Ni)\n",
        "\n",
        "##############################################################\n",
        "\n",
        "def plot_poisson_distr(len_, distr):\n",
        "  plt.bar(np.arange(len_), distr)\n",
        "  plt.title(\"Poisson's ditribution with intensity 5\")\n",
        "  plt.xticks(np.arange(len_))\n",
        "  plt.xlabel('Number of clients')\n",
        "  plt.ylabel('Probability')\n",
        "\n",
        "def poisson_distr(intensity, len_poisson_probs, size_processes_results):\n",
        "  poisson_probs = np.zeros(size_processes_results, dtype=float)\n",
        "  for i in np.arange(len_poisson_probs):\n",
        "    poisson_probs[i] = poisson.pmf(i, 5.0)\n",
        "  poisson_probs[-1] = 1 - np.sum(poisson_probs[:-1])\n",
        "\n",
        "  return poisson_probs"
      ],
      "metadata": {
        "id": "rIoT7IEKo0Co"
      },
      "execution_count": 3,
      "outputs": []
    },
    {
      "cell_type": "code",
      "source": [
        "'''\n",
        "Discuss the limiting distribution of this system for t→∞ (see lecture 23).\n",
        "Using an appropriate test at the 5% significance level, check whether the simulation results for N_100 correspond to this distribution.\n",
        "'''\n",
        "\n",
        "# Pearson's chi-squared test\n",
        "class PearsonsTest:\n",
        "  def __init__(self, clients_distr, poisson_distr):\n",
        "    self.clients_distr = clients_distr\n",
        "    self.poisson_distr = poisson_distr\n",
        "    self.sets_array = []\n",
        "\n",
        "  def normalize_table(self):\n",
        "    while any(poisson_prob < 5 for _, _, poisson_prob in self.sets_array):\n",
        "      sorted_array = sorted(self.sets_array, key=lambda x: x[1])\n",
        "      smallest = sorted_array[:2]\n",
        "\n",
        "      combined_letter = smallest[0][0] + smallest[1][0]\n",
        "      combined_expected = smallest[0][1] + smallest[1][1]\n",
        "      combined_actual = smallest[0][2] + smallest[1][2]\n",
        "\n",
        "      self.sets_array.append((combined_letter, combined_expected, combined_actual))\n",
        "\n",
        "      self.sets_array.remove(smallest[0])\n",
        "      self.sets_array.remove(smallest[1])\n",
        "\n",
        "    print(self.sets_array)\n",
        "\n",
        "  def test(self, alpha, normalize_flag):\n",
        "    for num_client, (client_p, possion_p) in enumerate(zip(self.clients_distr, self.poisson_distr)):\n",
        "      self.sets_array.append((num_client, client_p, possion_p))\n",
        "\n",
        "    print(self.sets_array)\n",
        "    if normalize_flag:\n",
        "      self.normalize_table()\n",
        "\n",
        "    test_val = 0.0\n",
        "    for _, np, N in self.sets_array:\n",
        "      test_val += (N - np)**2 / np\n",
        "\n",
        "    ddf = len(self.sets_array) - 1\n",
        "    critical_value= chi2.isf(alpha, ddf)\n",
        "    p_value = chi2.sf(test_val, ddf)\n",
        "    print(f'Manual values: ddf: {ddf}, p_value: {p_value}, test_val: {test_val}, critical_value: {critical_value}')\n",
        "\n",
        "    print(chisquare([s[2] for s in self.sets_array], [s[1] for s in self.sets_array]))"
      ],
      "metadata": {
        "id": "g0kAIdr0ojnw"
      },
      "execution_count": 4,
      "outputs": []
    },
    {
      "cell_type": "code",
      "source": [
        "N = 500\n",
        "############# 1. task #############\n",
        "process = create_trajectory(10.0)\n",
        "#plot_trajectory(process)\n",
        "###################################\n",
        "\n",
        "############# 2. task #############\n",
        "res = simulate_trajectories()\n",
        "#plot_simulated_trajectories(res)\n",
        "\n",
        "clients_distr = find_clients_distr(res)\n",
        "#plot_clients_distr(clients_distr)\n",
        "\n",
        "'''\n",
        "How to calculate intensity\n",
        "a = 4, p = 2, λ = 10\n",
        "\n",
        "ES = 1/μ = p/a\n",
        "μ = 1/ES = a/p = 4/2 = 2\n",
        "λ/μ = 5\n",
        "'''\n",
        "p_distr = poisson_distr(5.0, len(clients_distr), int(np.max(res)+1))\n",
        "#plot_poisson_distr(len(clients_distr), p_distr)\n",
        "###################################\n",
        "\n",
        "############# 3. task #############\n",
        "pearson_test = PearsonsTest(clients_distr * N, p_distr * N)\n",
        "pearson_test.test(0.05, True)\n",
        "###################################"
      ],
      "metadata": {
        "colab": {
          "base_uri": "https://localhost:8080/"
        },
        "id": "-BTMKlpFoaIg",
        "outputId": "20a0fdcb-896e-4c2d-ca43-785324ff6878"
      },
      "execution_count": 5,
      "outputs": [
        {
          "output_type": "stream",
          "name": "stdout",
          "text": [
            "[(0, 4.0, 3.3689734995427334), (1, 21.0, 16.84486749771367), (2, 41.0, 42.11216874428416), (3, 61.0, 70.18694790714025), (4, 80.0, 87.73368488392532), (5, 91.0, 87.73368488392533), (6, 69.0, 73.1114040699377), (7, 60.0, 52.22243147852697), (8, 41.0, 32.63901967407933), (9, 16.0, 18.132788707821856), (10, 10.0, 9.066394353910926), (11, 4.0, 4.1210883426867815), (12, 2.0, 2.7265459565049555)]\n",
            "[(1, 21.0, 16.84486749771367), (2, 41.0, 42.11216874428416), (3, 61.0, 70.18694790714025), (4, 80.0, 87.73368488392532), (5, 91.0, 87.73368488392533), (6, 69.0, 73.1114040699377), (7, 60.0, 52.22243147852697), (8, 41.0, 32.63901967407933), (9, 16.0, 18.132788707821856), (10, 10.0, 9.066394353910926), (23, 10.0, 10.21660779873447)]\n",
            "Manual values: ddf: 10, p_value: 0.7774782620904389, test_val: 6.435121430770229, critical_value: 18.30703805327515\n",
            "Power_divergenceResult(statistic=6.435121430770229, pvalue=0.7774782620904389)\n"
          ]
        }
      ]
    }
  ]
}